{
 "cells": [
  {
   "cell_type": "markdown",
   "metadata": {},
   "source": [
    "# Test embedalign with SentEval \n",
    "\n",
    "This notebook will allow you to test EmbedAlign using SentEval. In particular, this also works on **CPUs** :D\n",
    "\n",
    "* Dependencies:\n",
    "    * Python 3.5 with NumPy/SciPy\n",
    "    * Pytorch \n",
    "    * Tensorflow 1.5.0  (for CPUs or GPUs depending on how you plan to run it)\n",
    "        * For example in MacOS: \n",
    "        ```\n",
    "        pip install https://storage.googleapis.com/tensorflow/mac/cpu/tensorflow-1.5.0-py3-none-any.whl\n",
    "        ```\n",
    "    * scikit-learn>=0.18.0\n",
    "    * dill>=0.2.7.1\n",
    "\n",
    "\n",
    "* Install `dgm4nlp` by following the instructions [here](https://github.com/uva-slpl/dgm4nlp), we highly recommend the use of `virtualenv`.\n",
    "\n",
    "In the same `virtualenv`, do the following:\n",
    "\n",
    "* Clone repo from FAIR github\n",
    "```\n",
    "    git clone https://github.com/facebookresearch/SentEval.git\n",
    "    cd SentEval/\n",
    "```\n",
    "\n",
    "* Install senteval\n",
    "```\n",
    "    python setup.py install\n",
    "```\n",
    "\n",
    "* Download datasets (it takes some time...)\n",
    "    * these are downstream tasks\n",
    "    * new Senteval also has probing tasks (https://github.com/facebookresearch/SentEval/tree/master/data/probing) for evaluating linguistic properties of your embeddings. \n",
    "\n",
    "```\n",
    "    cd data/downstream/\n",
    "    ./get_transfer_data.bash\n",
    "```\n",
    "\n",
    "* Download [pretained embedlaign model](https://surfdrive.surf.nl/files/index.php/s/9M4h5zqmYETSmf3)\n",
    "\n",
    "\n",
    "* The following code evaluates embedalign pretrained embeddings on en-fr Europarl on different NLP downstream tasks.\n",
    "\n"
   ]
  },
  {
   "cell_type": "code",
   "execution_count": 1,
   "metadata": {},
   "outputs": [
    {
     "name": "stderr",
     "output_type": "stream",
     "text": [
      "c:\\users\\tomsc\\appdata\\local\\programs\\python\\python35\\lib\\site-packages\\h5py\\__init__.py:36: FutureWarning: Conversion of the second argument of issubdtype from `float` to `np.floating` is deprecated. In future, it will be treated as `np.float64 == np.dtype(float).type`.\n",
      "  from ._conv import register_converters as _register_converters\n"
     ]
    }
   ],
   "source": [
    "from __future__ import absolute_import, division, unicode_literals\n",
    "\n",
    "import sys\n",
    "import numpy as np\n",
    "import logging\n",
    "import sklearn\n",
    "#import data \n",
    "# data.py is part of Senteval and it is used for loading word2vec style files\n",
    "import senteval\n",
    "import tensorflow as tf\n",
    "import logging\n",
    "from collections import defaultdict\n",
    "import dill\n",
    "import dgm4nlp\n",
    "import pickle"
   ]
  },
  {
   "cell_type": "code",
   "execution_count": 2,
   "metadata": {},
   "outputs": [],
   "source": [
    "class dotdict(dict):\n",
    "    \"\"\" dot.notation access to dictionary attributes \"\"\"\n",
    "    __getattr__ = dict.get\n",
    "    __setattr__ = dict.__setitem__\n",
    "    __delattr__ = dict.__delitem__\n",
    "\n",
    "class EmbeddingExtractor:\n",
    "    \"\"\"\n",
    "    This will compute a forward pass with the inference model of EmbedAlign and \n",
    "        give you the variational mean for each L1 word in the batch.\n",
    "        \n",
    "    Note that this takes monolingual L1 sentences only (at this point we have a traiend EmbedAlign model\n",
    "        which dispenses with L2 sentences).    \n",
    "        \n",
    "    You don't really want to touch anything in this class.\n",
    "    \"\"\"\n",
    "\n",
    "    def __init__(self, graph_file, ckpt_path, config=None):        \n",
    "        g1 = tf.Graph()\n",
    "        self.meta_graph = graph_file\n",
    "        self.ckpt_path = ckpt_path\n",
    "        \n",
    "        self.softmax_approximation = 'botev-batch' #default\n",
    "        with g1.as_default():\n",
    "            self.sess = tf.Session(config=config, graph=g1)\n",
    "            # load architecture computational graph\n",
    "            self.new_saver = tf.train.import_meta_graph(self.meta_graph)\n",
    "            # restore checkpoint\n",
    "            self.new_saver.restore(self.sess, self.ckpt_path) #tf.train.latest_checkpoint(\n",
    "            self.graph = g1  #tf.get_default_graph()\n",
    "            # retrieve input variable\n",
    "            self.x = self.graph.get_tensor_by_name(\"X:0\")\n",
    "            # retrieve training switch variable (True:trianing, False:Test)\n",
    "            self.training_phase = self.graph.get_tensor_by_name(\"training_phase:0\")\n",
    "            #self.keep_prob = self.graph.get_tensor_by_name(\"keep_prob:0\")\n",
    "\n",
    "    def get_z_embedding_batch(self, x_batch):\n",
    "        \"\"\"\n",
    "        :param x_batch: is np array of shape [batch_size, longest_sentence] containing the unique ids of words\n",
    "        \n",
    "        :returns: [batch_size, longest_sentence, z_dim]        \n",
    "        \"\"\"\n",
    "        # Retrieve embeddings from latent variable Z\n",
    "        # we can sempale several n_samples, default 1\n",
    "        try:\n",
    "            z_mean = self.graph.get_tensor_by_name(\"z:0\")\n",
    "            \n",
    "            feed_dict = {\n",
    "                self.x: x_batch,\n",
    "                self.training_phase: False,\n",
    "                #self.keep_prob: 1.\n",
    "\n",
    "            }\n",
    "            z_rep_values = self.sess.run(z_mean, feed_dict=feed_dict) \n",
    "        except:\n",
    "            raise ValueError('tensor Z not in graph!')\n",
    "        return z_rep_values"
   ]
  },
  {
   "cell_type": "markdown",
   "metadata": {},
   "source": [
    "This is how you interface with SentEval. The only think you need to change are the paths to trained models in the main block at the end."
   ]
  },
  {
   "cell_type": "code",
   "execution_count": 3,
   "metadata": {},
   "outputs": [
    {
     "name": "stderr",
     "output_type": "stream",
     "text": [
      "2018-05-30 16:41:14,034 : ***** Transfer task : MR *****\n",
      "\n",
      "\n"
     ]
    },
    {
     "name": "stdout",
     "output_type": "stream",
     "text": [
      "INFO:tensorflow:Restoring parameters from C:/Users/TomSc/stack/AI UVA/ULL/lab3/ull-practical3-embedalign/model.best.validation.aer.ckpt\n"
     ]
    },
    {
     "name": "stderr",
     "output_type": "stream",
     "text": [
      "2018-05-30 16:41:17,771 : Restoring parameters from C:/Users/TomSc/stack/AI UVA/ULL/lab3/ull-practical3-embedalign/model.best.validation.aer.ckpt\n",
      "2018-05-30 16:41:18,718 : Generating sentence embeddings\n",
      "2018-05-30 16:46:02,325 : Generated sentence embeddings\n",
      "2018-05-30 16:46:02,326 : Training sklearn-LogReg with (inner) 10-fold cross-validation\n",
      "2018-05-30 16:46:11,744 : Best param found at split 1: l2reg = 4                 with score 64.44\n",
      "2018-05-30 16:46:21,341 : Best param found at split 2: l2reg = 4                 with score 64.67\n",
      "2018-05-30 16:46:31,047 : Best param found at split 3: l2reg = 8                 with score 64.31\n",
      "2018-05-30 16:46:40,616 : Best param found at split 4: l2reg = 8                 with score 64.83\n",
      "2018-05-30 16:46:50,469 : Best param found at split 5: l2reg = 8                 with score 64.93\n",
      "2018-05-30 16:47:00,331 : Best param found at split 6: l2reg = 8                 with score 64.49\n",
      "2018-05-30 16:47:10,164 : Best param found at split 7: l2reg = 8                 with score 64.42\n",
      "2018-05-30 16:47:20,092 : Best param found at split 8: l2reg = 8                 with score 64.59\n",
      "2018-05-30 16:47:29,948 : Best param found at split 9: l2reg = 8                 with score 64.69\n",
      "2018-05-30 16:47:40,013 : Best param found at split 10: l2reg = 4                 with score 64.61\n",
      "2018-05-30 16:47:40,247 : Dev acc : 64.6 Test acc : 64.69\n",
      "\n",
      "2018-05-30 16:47:40,249 : ***** Transfer task : CR *****\n",
      "\n",
      "\n"
     ]
    },
    {
     "name": "stdout",
     "output_type": "stream",
     "text": [
      "INFO:tensorflow:Restoring parameters from C:/Users/TomSc/stack/AI UVA/ULL/lab3/ull-practical3-embedalign/model.best.validation.aer.ckpt\n"
     ]
    },
    {
     "name": "stderr",
     "output_type": "stream",
     "text": [
      "2018-05-30 16:47:41,358 : Restoring parameters from C:/Users/TomSc/stack/AI UVA/ULL/lab3/ull-practical3-embedalign/model.best.validation.aer.ckpt\n",
      "2018-05-30 16:47:41,895 : Generating sentence embeddings\n",
      "2018-05-30 16:49:10,575 : Generated sentence embeddings\n",
      "2018-05-30 16:49:10,576 : Training sklearn-LogReg with (inner) 10-fold cross-validation\n",
      "2018-05-30 16:49:12,255 : Best param found at split 1: l2reg = 8                 with score 70.89\n",
      "2018-05-30 16:49:14,103 : Best param found at split 2: l2reg = 4                 with score 69.86\n",
      "2018-05-30 16:49:15,807 : Best param found at split 3: l2reg = 4                 with score 70.27\n",
      "2018-05-30 16:49:17,485 : Best param found at split 4: l2reg = 8                 with score 70.39\n",
      "2018-05-30 16:49:19,186 : Best param found at split 5: l2reg = 4                 with score 70.27\n",
      "2018-05-30 16:49:20,953 : Best param found at split 6: l2reg = 4                 with score 70.68\n",
      "2018-05-30 16:49:22,588 : Best param found at split 7: l2reg = 4                 with score 70.06\n",
      "2018-05-30 16:49:24,272 : Best param found at split 8: l2reg = 4                 with score 69.98\n",
      "2018-05-30 16:49:26,177 : Best param found at split 9: l2reg = 8                 with score 70.58\n",
      "2018-05-30 16:49:27,984 : Best param found at split 10: l2reg = 4                 with score 69.99\n",
      "2018-05-30 16:49:28,029 : Dev acc : 70.3 Test acc : 70.22\n",
      "\n",
      "2018-05-30 16:49:28,030 : ***** Transfer task : MPQA *****\n",
      "\n",
      "\n"
     ]
    },
    {
     "name": "stdout",
     "output_type": "stream",
     "text": [
      "INFO:tensorflow:Restoring parameters from C:/Users/TomSc/stack/AI UVA/ULL/lab3/ull-practical3-embedalign/model.best.validation.aer.ckpt\n"
     ]
    },
    {
     "name": "stderr",
     "output_type": "stream",
     "text": [
      "2018-05-30 16:49:29,186 : Restoring parameters from C:/Users/TomSc/stack/AI UVA/ULL/lab3/ull-practical3-embedalign/model.best.validation.aer.ckpt\n",
      "2018-05-30 16:49:29,603 : Generating sentence embeddings\n",
      "2018-05-30 16:53:11,188 : Generated sentence embeddings\n",
      "2018-05-30 16:53:11,190 : Training sklearn-LogReg with (inner) 10-fold cross-validation\n",
      "2018-05-30 16:53:22,954 : Best param found at split 1: l2reg = 8                 with score 84.23\n",
      "2018-05-30 16:53:34,896 : Best param found at split 2: l2reg = 8                 with score 83.92\n",
      "2018-05-30 16:53:47,007 : Best param found at split 3: l2reg = 8                 with score 83.73\n",
      "2018-05-30 16:53:59,291 : Best param found at split 4: l2reg = 8                 with score 84.27\n",
      "2018-05-30 16:54:10,815 : Best param found at split 5: l2reg = 8                 with score 84.18\n",
      "2018-05-30 16:54:23,639 : Best param found at split 6: l2reg = 8                 with score 83.99\n",
      "2018-05-30 16:54:35,931 : Best param found at split 7: l2reg = 8                 with score 83.82\n",
      "2018-05-30 16:54:48,273 : Best param found at split 8: l2reg = 8                 with score 84.04\n",
      "2018-05-30 16:55:00,576 : Best param found at split 9: l2reg = 8                 with score 83.78\n",
      "2018-05-30 16:55:12,643 : Best param found at split 10: l2reg = 8                 with score 83.79\n",
      "2018-05-30 16:55:13,011 : Dev acc : 83.98 Test acc : 84.05\n",
      "\n",
      "2018-05-30 16:55:13,011 : ***** Transfer task : SUBJ *****\n",
      "\n",
      "\n"
     ]
    },
    {
     "name": "stdout",
     "output_type": "stream",
     "text": [
      "INFO:tensorflow:Restoring parameters from C:/Users/TomSc/stack/AI UVA/ULL/lab3/ull-practical3-embedalign/model.best.validation.aer.ckpt\n"
     ]
    },
    {
     "name": "stderr",
     "output_type": "stream",
     "text": [
      "2018-05-30 16:55:14,177 : Restoring parameters from C:/Users/TomSc/stack/AI UVA/ULL/lab3/ull-practical3-embedalign/model.best.validation.aer.ckpt\n",
      "2018-05-30 16:55:14,615 : Generating sentence embeddings\n",
      "2018-05-30 17:06:20,469 : Generated sentence embeddings\n",
      "2018-05-30 17:06:20,469 : Training sklearn-LogReg with (inner) 10-fold cross-validation\n",
      "2018-05-30 17:06:27,542 : Best param found at split 1: l2reg = 8                 with score 79.16\n",
      "2018-05-30 17:06:34,833 : Best param found at split 2: l2reg = 8                 with score 79.4\n",
      "2018-05-30 17:06:42,198 : Best param found at split 3: l2reg = 8                 with score 79.27\n",
      "2018-05-30 17:06:49,786 : Best param found at split 4: l2reg = 8                 with score 79.68\n",
      "2018-05-30 17:06:57,359 : Best param found at split 5: l2reg = 8                 with score 79.43\n",
      "2018-05-30 17:07:04,921 : Best param found at split 6: l2reg = 8                 with score 79.58\n",
      "2018-05-30 17:07:12,272 : Best param found at split 7: l2reg = 8                 with score 79.39\n",
      "2018-05-30 17:07:19,497 : Best param found at split 8: l2reg = 8                 with score 79.56\n",
      "2018-05-30 17:07:26,716 : Best param found at split 9: l2reg = 8                 with score 79.57\n",
      "2018-05-30 17:07:34,359 : Best param found at split 10: l2reg = 8                 with score 79.21\n",
      "2018-05-30 17:07:34,600 : Dev acc : 79.42 Test acc : 79.45\n",
      "\n",
      "2018-05-30 17:07:34,600 : ***** Transfer task : SST Binary classification *****\n",
      "\n",
      "\n"
     ]
    },
    {
     "name": "stdout",
     "output_type": "stream",
     "text": [
      "INFO:tensorflow:Restoring parameters from C:/Users/TomSc/stack/AI UVA/ULL/lab3/ull-practical3-embedalign/model.best.validation.aer.ckpt\n"
     ]
    },
    {
     "name": "stderr",
     "output_type": "stream",
     "text": [
      "2018-05-30 17:07:36,032 : Restoring parameters from C:/Users/TomSc/stack/AI UVA/ULL/lab3/ull-practical3-embedalign/model.best.validation.aer.ckpt\n",
      "2018-05-30 17:07:36,423 : Computing embedding for test\n",
      "2018-05-30 17:09:35,844 : Computed test embeddings\n",
      "2018-05-30 17:09:35,844 : Computing embedding for train\n",
      "2018-05-30 17:47:21,097 : Computed train embeddings\n",
      "2018-05-30 17:47:21,097 : Computing embedding for dev\n",
      "2018-05-30 17:48:07,811 : Computed dev embeddings\n",
      "2018-05-30 17:48:07,811 : Training sklearn-LogReg with standard validation..\n",
      "2018-05-30 17:48:27,260 : [('reg:0.25', 66.06), ('reg:0.5', 66.28), ('reg:1', 66.17), ('reg:2', 66.86), ('reg:4', 67.32), ('reg:8', 67.43)]\n",
      "2018-05-30 17:48:27,260 : Validation : best param found is reg = 8 with score             67.43\n",
      "2018-05-30 17:48:27,260 : Evaluating...\n",
      "2018-05-30 17:48:32,470 : \n",
      "Dev acc : 67.43 Test acc : 67.33 for             SST Binary classification\n",
      "\n",
      "2018-05-30 17:48:32,470 : ***** Transfer task : TREC *****\n",
      "\n",
      "\n"
     ]
    },
    {
     "name": "stdout",
     "output_type": "stream",
     "text": [
      "INFO:tensorflow:Restoring parameters from C:/Users/TomSc/stack/AI UVA/ULL/lab3/ull-practical3-embedalign/model.best.validation.aer.ckpt\n"
     ]
    },
    {
     "name": "stderr",
     "output_type": "stream",
     "text": [
      "2018-05-30 17:48:33,584 : Restoring parameters from C:/Users/TomSc/stack/AI UVA/ULL/lab3/ull-practical3-embedalign/model.best.validation.aer.ckpt\n",
      "2018-05-30 17:51:55,369 : Computed train embeddings\n",
      "2018-05-30 17:52:10,469 : Computed test embeddings\n",
      "2018-05-30 17:52:10,469 : Training sklearn-LogReg with 10-fold cross-validation\n",
      "2018-05-30 17:52:40,079 : [('reg:0.5', 50.29), ('reg:1', 50.64), ('reg:2', 50.97), ('reg:4', 51.3), ('reg:8', 51.98), ('reg:16', 52.55), ('reg:32', 53.85)]\n",
      "2018-05-30 17:52:40,079 : Cross-validation : best param found is reg = 32             with score 53.85\n",
      "2018-05-30 17:52:40,079 : Evaluating...\n",
      "2018-05-30 17:52:41,076 : \n",
      "Dev acc : 53.85 Test acc : 57.0             for TREC\n",
      "\n",
      "2018-05-30 17:52:41,076 : ***** Transfer task : MRPC *****\n",
      "\n",
      "\n"
     ]
    },
    {
     "name": "stdout",
     "output_type": "stream",
     "text": [
      "INFO:tensorflow:Restoring parameters from C:/Users/TomSc/stack/AI UVA/ULL/lab3/ull-practical3-embedalign/model.best.validation.aer.ckpt\n"
     ]
    },
    {
     "name": "stderr",
     "output_type": "stream",
     "text": [
      "2018-05-30 17:52:42,410 : Restoring parameters from C:/Users/TomSc/stack/AI UVA/ULL/lab3/ull-practical3-embedalign/model.best.validation.aer.ckpt\n",
      "2018-05-30 17:52:42,807 : Computing embedding for test\n",
      "2018-05-30 17:56:51,945 : Computed test embeddings\n",
      "2018-05-30 17:56:51,945 : Computing embedding for train\n",
      "2018-05-30 18:05:05,394 : Computed train embeddings\n",
      "2018-05-30 18:05:05,415 : Training sklearn-LogReg with 10-fold cross-validation\n",
      "2018-05-30 18:05:10,905 : [('reg:0.5', 70.83), ('reg:1', 70.54), ('reg:2', 70.51), ('reg:4', 70.51), ('reg:8', 70.49), ('reg:16', 70.54), ('reg:32', 70.64)]\n",
      "2018-05-30 18:05:10,905 : Cross-validation : best param found is reg = 0.5             with score 70.83\n",
      "2018-05-30 18:05:10,905 : Evaluating...\n",
      "2018-05-30 18:05:10,977 : Dev acc : 70.83 Test acc 71.19; Test F1 80.91 for MRPC.\n",
      "\n",
      "2018-05-30 18:05:10,977 : ***** Transfer task : SICK-Entailment*****\n",
      "\n",
      "\n"
     ]
    },
    {
     "name": "stdout",
     "output_type": "stream",
     "text": [
      "INFO:tensorflow:Restoring parameters from C:/Users/TomSc/stack/AI UVA/ULL/lab3/ull-practical3-embedalign/model.best.validation.aer.ckpt\n"
     ]
    },
    {
     "name": "stderr",
     "output_type": "stream",
     "text": [
      "2018-05-30 18:05:12,044 : Restoring parameters from C:/Users/TomSc/stack/AI UVA/ULL/lab3/ull-practical3-embedalign/model.best.validation.aer.ckpt\n",
      "2018-05-30 18:05:12,457 : Computing embedding for test\n",
      "2018-05-30 18:11:01,324 : Computed test embeddings\n",
      "2018-05-30 18:11:01,324 : Computing embedding for train\n",
      "2018-05-30 18:16:18,090 : Computed train embeddings\n",
      "2018-05-30 18:16:18,090 : Computing embedding for dev\n",
      "2018-05-30 18:17:00,184 : Computed dev embeddings\n",
      "2018-05-30 18:17:00,195 : Training sklearn-LogReg with standard validation..\n",
      "2018-05-30 18:17:01,670 : [('reg:0.25', 70.6), ('reg:0.5', 71.6), ('reg:1', 72.6), ('reg:2', 71.6), ('reg:4', 71.0), ('reg:8', 72.0)]\n",
      "2018-05-30 18:17:01,670 : Validation : best param found is reg = 1 with score             72.6\n",
      "2018-05-30 18:17:01,670 : Evaluating...\n",
      "2018-05-30 18:17:01,880 : \n",
      "Dev acc : 72.6 Test acc : 72.8 for                        SICK entailment\n",
      "\n",
      "2018-05-30 18:17:01,880 : ***** Transfer task : STS14 *****\n",
      "\n",
      "\n"
     ]
    },
    {
     "name": "stdout",
     "output_type": "stream",
     "text": [
      "INFO:tensorflow:Restoring parameters from C:/Users/TomSc/stack/AI UVA/ULL/lab3/ull-practical3-embedalign/model.best.validation.aer.ckpt\n"
     ]
    },
    {
     "name": "stderr",
     "output_type": "stream",
     "text": [
      "2018-05-30 18:17:02,949 : Restoring parameters from C:/Users/TomSc/stack/AI UVA/ULL/lab3/ull-practical3-embedalign/model.best.validation.aer.ckpt\n",
      "2018-05-30 18:17:34,721 : deft-forum : pearson = 0.3802, spearman = 0.3915\n",
      "2018-05-30 18:18:16,305 : deft-news : pearson = 0.6427, spearman = 0.6089\n",
      "2018-05-30 18:19:09,544 : headlines : pearson = 0.5933, spearman = 0.5837\n",
      "2018-05-30 18:20:10,608 : images : pearson = 0.6962, spearman = 0.6912\n",
      "2018-05-30 18:21:09,349 : OnWN : pearson = 0.7114, spearman = 0.7625\n",
      "2018-05-30 18:22:17,850 : tweet-news : pearson = 0.6429, spearman = 0.5742\n",
      "2018-05-30 18:22:17,850 : ALL (weighted average) : Pearson = 0.6258,             Spearman = 0.6180\n",
      "2018-05-30 18:22:17,850 : ALL (average) : Pearson = 0.6111,             Spearman = 0.6020\n",
      "\n"
     ]
    },
    {
     "name": "stdout",
     "output_type": "stream",
     "text": [
      "{'STS14': {'all': {'pearson': {'mean': 0.6111246036212467, 'wmean': 0.6258046599960156}, 'spearman': {'mean': 0.602015029091083, 'wmean': 0.6180263579891032}}, 'tweet-news': {'nsamples': 750, 'pearson': (0.6429181928873018, 1.0748806924120563e-88), 'spearman': SpearmanrResult(correlation=0.574210132769574, pvalue=5.3101342411806945e-67)}, 'deft-forum': {'nsamples': 450, 'pearson': (0.38021812885999917, 6.313765399784633e-17), 'spearman': SpearmanrResult(correlation=0.39149844529470923, pvalue=6.2072664542966766e-18)}, 'deft-news': {'nsamples': 300, 'pearson': (0.6427284503390039, 2.3467921878549944e-36), 'spearman': SpearmanrResult(correlation=0.6089316774718303, pvalue=7.892633971102246e-32)}, 'headlines': {'nsamples': 750, 'pearson': (0.5932632327096253, 1.6955027703808894e-72), 'spearman': SpearmanrResult(correlation=0.5837432729872343, pvalue=1.0488928405654872e-69)}, 'images': {'nsamples': 750, 'pearson': (0.6961705008674539, 8.845182768766216e-110), 'spearman': SpearmanrResult(correlation=0.6912069961908883, pvalue=1.275919023897191e-107)}, 'OnWN': {'nsamples': 750, 'pearson': (0.7114491160640962, 1.0314564710578174e-116), 'spearman': SpearmanrResult(correlation=0.7624996498322615, pvalue=1.3579393657988263e-143)}}, 'SST2': {'devacc': 67.43, 'ntest': 1821, 'acc': 67.33, 'ndev': 872}, 'SICKEntailment': {'devacc': 72.6, 'ntest': 4927, 'acc': 72.8, 'ndev': 500}, 'TREC': {'devacc': 53.85, 'ntest': 500, 'acc': 57.0, 'ndev': 5452}, 'MRPC': {'devacc': 70.83, 'ntest': 1725, 'acc': 71.19, 'ndev': 4076, 'f1': 80.91}, 'SUBJ': {'devacc': 79.42, 'ntest': 10000, 'acc': 79.45, 'ndev': 10000}, 'CR': {'devacc': 70.3, 'ntest': 3775, 'acc': 70.22, 'ndev': 3775}, 'MR': {'devacc': 64.6, 'ntest': 10662, 'acc': 64.69, 'ndev': 10662}, 'MPQA': {'devacc': 83.98, 'ntest': 10606, 'acc': 84.05, 'ndev': 10606}}\n"
     ]
    }
   ],
   "source": [
    "# Copyright (c) 2017-present, Facebook, Inc.\n",
    "# All rights reserved.\n",
    "#\n",
    "# This source code is licensed under the license found in the\n",
    "# LICENSE file in the root directory of this source tree.\n",
    "#\n",
    "\n",
    "\n",
    "\n",
    "# Set PATHs\n",
    "# path to senteval\n",
    "#PATH_TO_SENTEVAL = '../'\n",
    "\n",
    "\n",
    "\n",
    "# import SentEval\n",
    "#sys.path.insert(0, PATH_TO_SENTEVAL)\n",
    "\n",
    "# Set params for SentEval\n",
    "# we use logistic regression (usepytorch: Fasle) and kfold 10\n",
    "# In this dictionary you can add extra information that you model needs for initialization\n",
    "# for example the path to a dictionary of indices, of hyper parameters\n",
    "# this dictionary is passed to the batched and the prepare fucntions\n",
    "params_senteval = {'task_path': '',\n",
    "                   'usepytorch': False,\n",
    "                   'kfold': 10,\n",
    "                   'ckpt_path': '',\n",
    "                   'tok_path': '',\n",
    "                   'extractor': None,\n",
    "                   'tks1': None}\n",
    "# made dictionary a dotdict\n",
    "params_senteval = dotdict(params_senteval)\n",
    "# this is the config for the NN classifier but we are going to use scikit-learn logistic regression with 10 kfold\n",
    "# usepytorch = False \n",
    "#params_senteval['classifier'] = {'nhid': 0, 'optim': 'rmsprop', 'batch_size': 128,\n",
    "#                                 'tenacity': 3, 'epoch_size': 2}\n",
    "\n",
    "\n",
    "\n",
    "def prepare(params, samples):\n",
    "    \"\"\"\n",
    "    In this example we are going to load a tensorflow model, \n",
    "    we open a dictionary with the indices of tokens and the computation graph\n",
    "    \"\"\"\n",
    "    params.extractor = EmbeddingExtractor(\n",
    "        graph_file='%s.meta'%(params.ckpt_path),\n",
    "        ckpt_path=params.ckpt_path,\n",
    "        config=None #run in cpu\n",
    "    )\n",
    "\n",
    "    # load tokenizer from training\n",
    "    params.tks1 = dill.load(open(params.tok_path, 'rb'))\n",
    "    return\n",
    "\n",
    "def batcher(params, batch):\n",
    "    \"\"\"\n",
    "    At this point batch is a python list containing sentences. Each sentence is a list of tokens (each token a string).\n",
    "    The code below will take care of converting this to unique ids that EmbedAlign can understand.\n",
    "    \n",
    "    This function should return a single vector representation per sentence in the batch.\n",
    "    In this example we use the average of word embeddings (as predicted by EmbedAlign) as a sentence representation.\n",
    "    \n",
    "    In this method you can do mini-batching or you can process sentences 1 at a time (batches of size 1).\n",
    "    We choose to do it 1 sentence at a time to avoid having to deal with masking. \n",
    "    \n",
    "    This should not be too slow, and it also saves memory.\n",
    "    \"\"\"\n",
    "    # if a sentence is empty dot is set to be the only token\n",
    "    # you can change it into NULL dependening in your model\n",
    "    batch = [sent if sent != [] else ['.'] for sent in batch]\n",
    "    embeddings = []\n",
    "    for sent in batch:\n",
    "        # Here is where dgm4nlp converts strings to unique ids respecting the vocabulary\n",
    "        # of the pre-trained EmbedAlign model\n",
    "        # from tokens ot ids position 0 is en\n",
    "        x1 = params.tks1[0].to_sequences([(' '.join(sent))])\n",
    "        \n",
    "        # extract word embeddings in context for a sentence\n",
    "        # [1, sentence_length, z_dim]\n",
    "        z_batch1 = params.extractor.get_z_embedding_batch(x_batch=x1)\n",
    "        # sentence vector is the mean of word embeddings in context\n",
    "        # [1, z_dim]\n",
    "        sent_vec = np.mean(z_batch1, axis=1)\n",
    "        # check if there is any NaN in vector (they appear sometimes when there's padding)\n",
    "        if np.isnan(sent_vec.sum()):\n",
    "            sent_vec = np.nan_to_num(sent_vec)        \n",
    "        embeddings.append(sent_vec)\n",
    "    embeddings = np.vstack(embeddings)\n",
    "    return embeddings\n",
    "\n",
    "def load_pickled_data(filename):\n",
    "    \"\"\"\n",
    "    Load pickled adata\n",
    "    \"\"\"\n",
    "    with open(filename, 'rb') as handle:\n",
    "        data = pickle.load(handle)\n",
    "    return data\n",
    "\n",
    "probs = load_pickled_data('word_probabilities.pickle')\n",
    "\n",
    "def weighted_batcher(params, batch):\n",
    "    batch = [sent if sent != [] else ['.'] for sent in batch]\n",
    "    embeddings = []\n",
    "    a = 0.01\n",
    "    average_prob = 1/(len(probs.keys()))\n",
    "    \n",
    "    for sent in batch:\n",
    "        x1 = params.tks1[0].to_sequences([(' '.join(sent))])\n",
    "        \n",
    "        # extract word embeddings in context for a sentence\n",
    "        # [1, sentence_length, z_dim]\n",
    "        z_batch1 = params.extractor.get_z_embedding_batch(x_batch=x1)\n",
    "        \n",
    "        # get weighted vectors before taking the mean.\n",
    "        z_batch1[:,0,:] = z_batch1[:,0,:] * average_prob #they added a begin of sentence mark \n",
    "        \n",
    "        for i in range(1, z_batch1.shape[1]):\n",
    "            try:\n",
    "                word = sent[i-1] #skip the first dim of z_batch1\n",
    "            except:\n",
    "                print(sent, x1, z_batch1.shape[1])\n",
    "                \n",
    "            p_w = probs.get(word, average_prob)\n",
    "            scale = a / (a + p_w) # we can tune this a\n",
    "            z_batch1[:,i,:] = z_batch1[:,i,:] * scale \n",
    "        \n",
    "        # sentence vector is the mean of word embeddings in context\n",
    "        # [1, z_dim]\n",
    "        sent_vec = np.mean(z_batch1, axis=1)\n",
    "        \n",
    "        if np.isnan(sent_vec.sum()):\n",
    "            sent_vec = np.nan_to_num(sent_vec)        \n",
    "        embeddings.append(sent_vec)\n",
    "    embeddings = np.vstack(embeddings)\n",
    "    return embeddings\n",
    "    \n",
    "\n",
    "# Set up logger\n",
    "logging.basicConfig(format='%(asctime)s : %(message)s', level=logging.DEBUG)\n",
    "\n",
    "if __name__ == \"__main__\":\n",
    "    # define paths\n",
    "    # path to senteval data\n",
    "    # note senteval adds downstream into the path\n",
    "    params_senteval.task_path = 'C:/Users/TomSc/stack/AI UVA/ULL/lab3/SentEval/data' \n",
    "    # path to computation graph\n",
    "    # we use best model on validation AER\n",
    "    # TODO: you have to point to valid paths! Use the pre-trained model linked from the top of this notebook.\n",
    "    params_senteval.ckpt_path = 'C:/Users/TomSc/stack/AI UVA/ULL/lab3/ull-practical3-embedalign/model.best.validation.aer.ckpt'\n",
    "    # path to tokenizer with ids of trained Europarl data\n",
    "    # out dictionary id depends on dill for pickle\n",
    "    params_senteval.tok_path = 'C:/Users/TomSc/stack/AI UVA/ULL/lab3/ull-practical3-embedalign/tokenizer.pickle'\n",
    "    # we use 10 fold cross validation\n",
    "    params_senteval.kfold = 10\n",
    "    se = senteval.engine.SE(params_senteval, weighted_batcher, prepare)\n",
    "    \n",
    "    # here you define the NLP taks that your embedding model is going to be evaluated\n",
    "    # in (https://arxiv.org/abs/1802.05883) we use the following :\n",
    "    # SICKRelatedness (Sick-R) needs torch cuda to work (even when using logistic regression), \n",
    "    # but STS14 (semantic textual similarity) is a similar type of semantic task\n",
    "    transfer_tasks = ['MR', 'CR', 'MPQA', 'SUBJ', 'SST2', 'TREC',\n",
    "                      'MRPC', 'SICKEntailment', 'STS14']\n",
    "    # senteval prints the results and returns a dictionary with the scores\n",
    "    results = se.eval(transfer_tasks)\n",
    "    print(results)"
   ]
  },
  {
   "cell_type": "code",
   "execution_count": 4,
   "metadata": {},
   "outputs": [],
   "source": [
    "#pickle results\n",
    "import pickle\n",
    "with open('results/embed_align_weighted1e-2.pickle', 'wb') as handle:\n",
    "    pickle.dump(results, handle, protocol=pickle.HIGHEST_PROTOCOL)"
   ]
  },
  {
   "cell_type": "code",
   "execution_count": 9,
   "metadata": {},
   "outputs": [
    {
     "name": "stdout",
     "output_type": "stream",
     "text": [
      "MPQA 84.05\n",
      "MR 64.69\n",
      "SST2 67.33\n",
      "SICKEntailment 72.8\n",
      "MRPC 71.19\n",
      "SUBJ 79.45\n",
      "CR 70.22\n",
      "STS14  no accuracy\n",
      "TREC 57.0\n"
     ]
    }
   ],
   "source": [
    "import pickle\n",
    "with open('results/embed_align_weighted1e-2.pickle', 'rb') as handle:\n",
    "    results = pickle.load(handle)\n",
    "\n",
    "for k,v in results.items():\n",
    "    try:\n",
    "        print(k, v['acc'])\n",
    "    except:\n",
    "        print(k, \" no accuracy\")"
   ]
  },
  {
   "cell_type": "code",
   "execution_count": 10,
   "metadata": {},
   "outputs": [
    {
     "name": "stdout",
     "output_type": "stream",
     "text": [
      "{'pearson': {'mean': 0.6111246036212467, 'wmean': 0.6258046599960156}, 'spearman': {'mean': 0.602015029091083, 'wmean': 0.6180263579891032}}\n"
     ]
    }
   ],
   "source": [
    "print(results['STS14']['all'])"
   ]
  },
  {
   "cell_type": "code",
   "execution_count": null,
   "metadata": {
    "collapsed": true
   },
   "outputs": [],
   "source": []
  }
 ],
 "metadata": {
  "kernelspec": {
   "display_name": "Python 3",
   "language": "python",
   "name": "python3"
  },
  "language_info": {
   "codemirror_mode": {
    "name": "ipython",
    "version": 3
   },
   "file_extension": ".py",
   "mimetype": "text/x-python",
   "name": "python",
   "nbconvert_exporter": "python",
   "pygments_lexer": "ipython3",
   "version": "3.5.4"
  }
 },
 "nbformat": 4,
 "nbformat_minor": 2
}
